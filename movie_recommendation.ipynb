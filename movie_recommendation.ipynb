{
 "cells": [
  {
   "cell_type": "code",
   "execution_count": 14,
   "id": "d7c67b57",
   "metadata": {},
   "outputs": [],
   "source": [
    "import pandas as pd\n",
    "from sklearn.feature_extraction.text import TfidfVectorizer\n",
    "from sklearn.metrics.pairwise import linear_kernel"
   ]
  },
  {
   "cell_type": "code",
   "execution_count": 15,
   "id": "d5a22285",
   "metadata": {},
   "outputs": [],
   "source": [
    "# Load the dataset from CSV file\n",
    "df = pd.read_csv('movies.csv')\n",
    "\n",
    "# Preprocessing: Combine title and genres into one string\n",
    "df['title_genres'] = df['title'] + ' ' + df['genres']"
   ]
  },
  {
   "cell_type": "code",
   "execution_count": 16,
   "id": "1475679d",
   "metadata": {},
   "outputs": [],
   "source": [
    "# Initialize the TF-IDF vectorizer\n",
    "tfidf_vectorizer = TfidfVectorizer(stop_words='english')\n",
    "\n",
    "# Fit and transform the TF-IDF vectorizer\n",
    "tfidf_matrix = tfidf_vectorizer.fit_transform(df['title_genres'])"
   ]
  },
  {
   "cell_type": "code",
   "execution_count": 17,
   "id": "c5a32879",
   "metadata": {},
   "outputs": [],
   "source": [
    "def recommend_movies(genres, df, tfidf_matrix, n=5):\n",
    "    # Split the genres string into individual genres\n",
    "    genre_list = genres.split(',')\n",
    "    \n",
    "    # Combine the new genres with a dummy title for matching\n",
    "    new_movie = \"New Movie \" + ','.join(genre_list)\n",
    "\n",
    "    # Transform the new movie's genres using the trained TF-IDF vectorizer\n",
    "    new_movie_tfidf = tfidf_vectorizer.transform([new_movie])\n",
    "\n",
    "    # Calculate cosine similarity between the new movie and all movies in the dataset\n",
    "    cosine_similarities = linear_kernel(new_movie_tfidf, tfidf_matrix).flatten()\n",
    "\n",
    "    # Get indices of movies sorted by similarity score\n",
    "    related_movie_indices = cosine_similarities.argsort()[::-1]\n",
    "\n",
    "    # Get top n recommended movies (excluding the dummy movie itself)\n",
    "    top_movies_indices = related_movie_indices[1:n+1]\n",
    "    return df.iloc[top_movies_indices]['title'].tolist()\n"
   ]
  },
  {
   "cell_type": "code",
   "execution_count": 18,
   "id": "495d8191",
   "metadata": {},
   "outputs": [
    {
     "name": "stdout",
     "output_type": "stream",
     "text": [
      "Enter genres (comma-separated, e.g., Action,Adventure): action\n",
      "\n",
      "Recommended Movies:\n",
      "- Movie Movie (1978)\n",
      "- Into the Dark: New Year, New You (2018)\n",
      "- Ghost in the Shell: The New Movie (2015)\n",
      "- The Movie Out Here (2012)\n",
      "- Something New (2006)\n"
     ]
    }
   ],
   "source": [
    "# Main function to get user input and print recommendations\n",
    "def main():\n",
    "    genres_input = input(\"Enter genres (comma-separated, e.g., Action,Adventure): \").strip()\n",
    "\n",
    "    # Validate input to ensure it contains only alphabetic characters and commas\n",
    "    if not genres_input or not all(word.isalpha() or word == ',' for word in genres_input.split(',')):\n",
    "        print(\"Please enter valid genre values.\")\n",
    "        return\n",
    "\n",
    "    # Get recommendations and print them\n",
    "    recommended_movies = recommend_movies(genres_input, df, tfidf_matrix)\n",
    "    \n",
    "    if recommended_movies:\n",
    "        print(\"\\nRecommended Movies:\")\n",
    "        for movie in recommended_movies:\n",
    "            print(f\"- {movie}\")\n",
    "    else:\n",
    "        print(\"No recommendations found for the given genres.\")\n",
    "\n",
    "# Run the script\n",
    "if __name__ == '__main__':\n",
    "    main()\n"
   ]
  },
  {
   "cell_type": "code",
   "execution_count": null,
   "id": "2fedf880",
   "metadata": {},
   "outputs": [],
   "source": []
  }
 ],
 "metadata": {
  "kernelspec": {
   "display_name": "Python 3 (ipykernel)",
   "language": "python",
   "name": "python3"
  },
  "language_info": {
   "codemirror_mode": {
    "name": "ipython",
    "version": 3
   },
   "file_extension": ".py",
   "mimetype": "text/x-python",
   "name": "python",
   "nbconvert_exporter": "python",
   "pygments_lexer": "ipython3",
   "version": "3.9.12"
  }
 },
 "nbformat": 4,
 "nbformat_minor": 5
}
